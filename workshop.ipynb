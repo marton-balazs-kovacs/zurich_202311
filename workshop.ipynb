{
 "cells": [
  {
   "cell_type": "markdown",
   "id": "5374c672-03b5-4d08-ab1e-db6375d84db5",
   "metadata": {},
   "source": [
    "# What were the longest and shortest journal article titles in NHB at 2022?"
   ]
  },
  {
   "cell_type": "markdown",
   "id": "028fc04f-09f4-4d22-a83b-4371e9979f04",
   "metadata": {},
   "source": [
    "## Choosing the appropriate data source"
   ]
  },
  {
   "cell_type": "markdown",
   "id": "a7db0cc5-79ef-4aaf-aac4-f73a3119fe63",
   "metadata": {},
   "source": [
    "### Things to consider"
   ]
  },
  {
   "cell_type": "markdown",
   "id": "28b0de33-a87e-4806-a622-799d0bd9ca2b",
   "metadata": {},
   "source": [
    "* What type of data are we interested in for the given meta-research study? For example, we could be interested in the publication date, author names, number of citations, and the full text of the paper, etc.\n",
    "  * Scientific databases vary in the types of data they collect and make available to users.\n",
    "  * We may have to use multiple databases to get all the desired variables.\n",
    "  * Check the documentation of the databases for further details.\n",
    "  * Not all databases have the same data quality!\n",
    "* Is the database of your choice proprietary?\n",
    "  * Some databases are free to use, while others require a subscription. Ask your institution's librarian to find out whether you have access to the database.\n",
    "  * Some databases are free to use online (e.g. dimensions.ai) but the API access is restricted. Not the best option if one wants reproducible workflows.\n",
    "* Is there a readily available API and preferably a wrapper library in your programming language of choice to access the database easily?\n",
    "  * Using an API to access the data in the database is a secure, structured, scalable, and reproducible method compared to other ways (downloading unstructured data manually for example).\n",
    "  * Sometimes it is necessary to create custom solutions to solve our problems but in most cases, there is no need to reinvent the wheel.\n",
    "    * Most programming languages that data scientists use (e.g. Python or R) most likely already have wrapper libraries to use the API with ease. "
   ]
  },
  {
   "cell_type": "markdown",
   "id": "39b947c9-abdc-44fd-828b-2b44070a02bf",
   "metadata": {},
   "source": [
    "### Example"
   ]
  },
  {
   "cell_type": "markdown",
   "id": "7a81ef20-aab5-442a-9eb5-21c997514edf",
   "metadata": {},
   "source": [
    "* We use the [PubMed](https://pubmed.ncbi.nlm.nih.gov/) and the [PubMed Central](https://www.ncbi.nlm.nih.gov/pmc/) databases in our example."
   ]
  },
  {
   "cell_type": "markdown",
   "id": "3a2924ce-a84c-4e1d-befd-aaa9690b7bf7",
   "metadata": {},
   "source": [
    "## Setting up the project"
   ]
  },
  {
   "cell_type": "markdown",
   "id": "3883260e-a99a-498e-b026-3b5266dae2a5",
   "metadata": {},
   "source": [
    "### Things to consider"
   ]
  },
  {
   "cell_type": "markdown",
   "id": "e74d8493-4a34-43da-9de0-3bca99d0d10e",
   "metadata": {},
   "source": [
    "* Good practices for collaboration with other and future self.\n",
    "* What programming language to use?\n",
    "  * Mostly R or Python.\n",
    "* Package versioning and virtual environments\n",
    "  * Package versions can change over time hindering reproducibility of the code.\n",
    "  * Other packages installed on your machine can influence the results you get when running your code.\n",
    "  * This could be a source of error and it is hard to track.   \n",
    "* What IDE?\n",
    "  * Provides useful tools and integrated solutions to simplify workflow.\n",
    "  * Jupyter notebook is a popular choice for Python\n",
    "    * Markdown, Python codechunks and inline code.\n",
    "    * Writing human-readable output documents with reproducible code.\n",
    "* README.md\n",
    "  * First document to check for a given project.\n",
    "  * Describes the project and folder structure on a high-level.\n",
    "  * Describes the steps to reproduce the project.\n",
    "* License\n",
    "* Version control\n",
    "  * Tracking changes without clutter.\n",
    "  * Helps in identifying mistakes and correcting them.\n",
    "  * Helps with collaboration on code.\n",
    "  * Using it locally or publishing it to an online repository (e.g. Github or Gitlab).\n",
    "  * Not all files have to be tracked (use `.gitignore` to exclude files from tracking).\n",
    "* Project folder structure\n",
    "  * What goes where within the project?\n",
    "  * Is there any field-wise or programming language specific standard that we can follow?\n",
    "    * For example, R packages have a well-documented standard structure. There are other packages that we can take advantage of, which build on that structure. Easier to understand by others without prior knowledge of our project."
   ]
  },
  {
   "cell_type": "markdown",
   "id": "e1ad361a-b31d-4329-b564-cb6bed42cb80",
   "metadata": {},
   "source": [
    "### Example"
   ]
  },
  {
   "cell_type": "markdown",
   "id": "2239d281-cf52-4198-b5ea-8ccc2f97ed5a",
   "metadata": {},
   "source": [
    "* We use Python in our example. [See this tutorial for help on how to install it.](https://realpython.com/installing-python/).\n",
    "* Check if Python is successfully installed by using `python -version` or `python3 -V` in your terminal."
   ]
  },
  {
   "cell_type": "markdown",
   "id": "cafb2126-f2de-474d-9938-06221798d969",
   "metadata": {},
   "source": [
    "* Create a folder for the project `mkdir [folder_name]`\n",
    "* Open the folder `cd [folder_name]`"
   ]
  },
  {
   "cell_type": "markdown",
   "id": "31c3dd45-f225-435b-8df9-543913febd90",
   "metadata": {},
   "source": [
    "* Install `pipenv` to create a virtual working environment by typing `pip install pipenv` in your terminal\n",
    "  * From now on, all packages should by installed by using the virtual environment, i.e. `pipenv install [package_name]`"
   ]
  },
  {
   "cell_type": "markdown",
   "id": "97ed599b-83d4-499c-85c3-6545388f725f",
   "metadata": {},
   "source": [
    "* Install `jupyter notebook` by using `pipenv install jupyter`\n",
    "* Run the `jupyter notebook` by `pipenv run jupyter notebook`"
   ]
  },
  {
   "cell_type": "markdown",
   "id": "237fdfb0-fced-40d8-be57-979b38242b80",
   "metadata": {},
   "source": [
    "* Initialize the repository as a git repository `git init`\n",
    "* Add the `.gitignore` file.\n",
    "* Stage all the files for tracking `git add .`\n",
    "* Commit the initial changes `git commit -m \"init\"`"
   ]
  },
  {
   "cell_type": "markdown",
   "id": "38bad903-8031-40fb-83ca-28bc9507d872",
   "metadata": {},
   "source": [
    "## Writing the code"
   ]
  },
  {
   "cell_type": "markdown",
   "id": "21e24f2c-3b40-4cea-a7cb-9063b0a48dce",
   "metadata": {},
   "source": [
    "### Things to consider"
   ]
  },
  {
   "cell_type": "markdown",
   "id": "5f3974d7-aaad-40b5-944a-edf13f6d6411",
   "metadata": {},
   "source": [
    "* The first version of the code does not have to be perfect.\n",
    "* We cannot anticipate everything.\n",
    "* We should first focus on:\n",
    "  * Creating broad code structure that focuses on funcionality.\n",
    "  * Identifying potential sources of errors.\n",
    "* Errors will happen, so it is imporant to catch the errors and log everything so we can learn from them.\n",
    "* Break down code to functional sections (e.g. retreiving paper ids, getting their metadata, filtering the metadata, etc.)\n",
    "* We can update the code iteratively to be more precise (within reasonable limits...)."
   ]
  },
  {
   "cell_type": "markdown",
   "id": "0e42598a-5ee9-480b-aae0-15ab2ffd6fef",
   "metadata": {},
   "source": [
    "### Example"
   ]
  },
  {
   "cell_type": "markdown",
   "id": "56153221-dcfc-4d3a-9161-2ffb43309866",
   "metadata": {},
   "source": [
    "#### Setup"
   ]
  },
  {
   "cell_type": "markdown",
   "id": "2bc44515-3be1-4bef-bed3-6fdd094148e6",
   "metadata": {},
   "source": [
    "Load packages."
   ]
  },
  {
   "cell_type": "code",
   "execution_count": null,
   "id": "da6d44fa-0391-432e-9c3b-35bdaebbf806",
   "metadata": {},
   "outputs": [],
   "source": [
    "from Bio import Entrez\n",
    "import pandas as pd\n",
    "import matplotlib.pyplot as plt"
   ]
  },
  {
   "cell_type": "markdown",
   "id": "c496c899-c218-4e0b-b894-8f6b8518dd30",
   "metadata": {},
   "source": [
    "Introducing myself to Entrez according to PubMed API rules."
   ]
  },
  {
   "cell_type": "code",
   "execution_count": null,
   "id": "95e1c93a-70e2-4e51-a783-6b1c8165f77c",
   "metadata": {},
   "outputs": [],
   "source": [
    "Entrez.email = \"marton.balazs.kovacs@gmail.com\""
   ]
  },
  {
   "cell_type": "markdown",
   "id": "691f7f98-8352-4362-9a0a-de66e05b9df8",
   "metadata": {},
   "source": [
    "#### Retrieving the sample"
   ]
  },
  {
   "cell_type": "code",
   "execution_count": null,
   "id": "36d93238-4f96-4b6e-bdb7-79a1d53c853e",
   "metadata": {},
   "outputs": [],
   "source": [
    "# Constructing the query\n",
    "query = f\"nature human behaviour[Journal] AND 2022[Publication Date]\"\n",
    "\n",
    "# Create the search handle\n",
    "handle = Entrez.esearch(db=\"pubmed\", term=query, retmode=\"xml\")\n",
    "\n",
    "# Rerieve the results\n",
    "all_results = Entrez.read(handle)\n",
    "handle.close()"
   ]
  },
  {
   "cell_type": "code",
   "execution_count": null,
   "id": "a4889928-3163-4538-b867-df3326641d48",
   "metadata": {},
   "outputs": [],
   "source": [
    "all_results.keys()"
   ]
  },
  {
   "cell_type": "code",
   "execution_count": null,
   "id": "37994431-ea58-406a-82c4-9680a1b1ea0c",
   "metadata": {},
   "outputs": [],
   "source": [
    "# The number of papers published in plos one in 2022\n",
    "all_results['Count']"
   ]
  },
  {
   "cell_type": "code",
   "execution_count": null,
   "id": "9015372f-2c2e-41ba-974a-8d67de14fde8",
   "metadata": {},
   "outputs": [],
   "source": [
    "len(all_results['IdList'])"
   ]
  },
  {
   "cell_type": "markdown",
   "id": "e3edf549-0550-496c-8819-c0868b673242",
   "metadata": {},
   "source": [
    "The number of ids is not equal to the number of matches!\n",
    "\n",
    "According to the API documentation the maximum number of results returned is 10thousand. By setting the `retmax` parameter we can get all the results."
   ]
  },
  {
   "cell_type": "code",
   "execution_count": null,
   "id": "16b80edb-5e7e-437b-856f-2824f99ceec7",
   "metadata": {},
   "outputs": [],
   "source": [
    "# Constructing the query\n",
    "query = f\"nature human behaviour[Journal] AND 2022[Publication Date]\"\n",
    "\n",
    "# Create the search handle\n",
    "handle = Entrez.esearch(db=\"pubmed\", term=query, retmode=\"xml\", retmax=9999)\n",
    "\n",
    "# Rerieve the results\n",
    "results = Entrez.read(handle)\n",
    "handle.close()\n",
    "\n",
    "# Save all the ids\n",
    "paper_ids = results['IdList']\n",
    "len(paper_ids)"
   ]
  },
  {
   "cell_type": "markdown",
   "id": "3f6f7de5-1822-4df8-a1e3-dc4497b7ac26",
   "metadata": {},
   "source": [
    "#### Get the paper information"
   ]
  },
  {
   "cell_type": "markdown",
   "id": "014c0eab-86b2-4ca0-8889-29a15c05d5fe",
   "metadata": {},
   "source": [
    "If we post the ids first on PubMed the retrieval will be faster!"
   ]
  },
  {
   "cell_type": "code",
   "execution_count": null,
   "id": "cfa94662-ec4f-4ca7-8ced-cec9623d1b74",
   "metadata": {},
   "outputs": [],
   "source": [
    "handle = Entrez.epost(db=\"pubmed\", id=\",\".join(paper_ids))\n",
    "post = Entrez.read(handle)\n",
    "handle.close()\n",
    "post"
   ]
  },
  {
   "cell_type": "code",
   "execution_count": null,
   "id": "e9918097-73b5-44f8-ba9d-6769dcfe4d7a",
   "metadata": {},
   "outputs": [],
   "source": [
    "# Setting variables for iteration\n",
    "batch_size = 10\n",
    "results = []\n",
    "total_count = len(paper_ids)\n",
    "\n",
    "for start in range(0, total_count, batch_size):\n",
    "    # Set end for iteration\n",
    "    end = min(total_count, start + batch_size)\n",
    "    # Print progress\n",
    "    print(f\"Going to download record {start + 1} to {end}\")\n",
    "    # Fetch pubmed article data\n",
    "    handle = Entrez.efetch(\n",
    "        db=\"pubmed\",\n",
    "        retmode=\"XML\",\n",
    "        retstart=start,\n",
    "        retmax=batch_size,\n",
    "        webenv=post[\"WebEnv\"],\n",
    "        query_key=post[\"QueryKey\"]\n",
    "    )\n",
    "    \n",
    "    # Read returned XML as python object\n",
    "    data = Entrez.read(handle)\n",
    "    fetch_handle.close()\n",
    "    results.append(data)"
   ]
  },
  {
   "cell_type": "markdown",
   "id": "3ac86cf4-7ffe-4856-a4c1-ff2e6eb925e2",
   "metadata": {},
   "source": [
    "#### Understanding the structure of the returned data"
   ]
  },
  {
   "cell_type": "code",
   "execution_count": null,
   "id": "27e24990-1ff8-435b-a8c6-9cfde17d686c",
   "metadata": {},
   "outputs": [],
   "source": [
    "len(results)"
   ]
  },
  {
   "cell_type": "markdown",
   "id": "2ed5a007-c9eb-4bc3-9e94-ba79b02a7e38",
   "metadata": {},
   "source": [
    "The `results` array contains 27 batches of PubMed articles. Each batch contains on object of two arrays: 'PubmedBookArticle' and 'PubmedArticle'.\n",
    "\n",
    "Let's look at the structure of the first batch."
   ]
  },
  {
   "cell_type": "code",
   "execution_count": null,
   "id": "937aa2d2-a18e-456a-87fb-0ae8d835bcd9",
   "metadata": {},
   "outputs": [],
   "source": [
    "results[0]"
   ]
  },
  {
   "cell_type": "markdown",
   "id": "a2380a2b-14d1-4423-aeda-5935d3d4b643",
   "metadata": {},
   "source": [
    "How many articles were in the first batch?"
   ]
  },
  {
   "cell_type": "code",
   "execution_count": null,
   "id": "49346cef-9c87-4959-9488-7d20c4ccdb4b",
   "metadata": {},
   "outputs": [],
   "source": [
    "len(results[0]['PubmedArticle'])"
   ]
  },
  {
   "cell_type": "markdown",
   "id": "60334f57-a184-4772-882c-3600dda0dd18",
   "metadata": {},
   "source": [
    "Let's see the first article in the first batch."
   ]
  },
  {
   "cell_type": "code",
   "execution_count": null,
   "id": "d4346a0e-4a0a-4ab2-81e2-b6818e46f3f9",
   "metadata": {},
   "outputs": [],
   "source": [
    "results[0]['PubmedArticle'][0]"
   ]
  },
  {
   "cell_type": "code",
   "execution_count": null,
   "id": "16ea474c-3ee0-4f9e-92f2-de17259c8fdf",
   "metadata": {},
   "outputs": [],
   "source": [
    "results[0]['PubmedArticle'][0]['MedlineCitation']['Article'].keys()"
   ]
  },
  {
   "cell_type": "markdown",
   "id": "1a9596c0-fe1c-485e-8a18-85300c1eb696",
   "metadata": {},
   "source": [
    "#### Extracting the measures needed"
   ]
  },
  {
   "cell_type": "markdown",
   "id": "2cbca0b6-4bc9-4021-871f-6c31aad253e6",
   "metadata": {},
   "source": [
    "We can extract the results into a dataframe."
   ]
  },
  {
   "cell_type": "code",
   "execution_count": null,
   "id": "0027c2d1-0e3f-4735-9f2f-3f1c04ac0dc9",
   "metadata": {},
   "outputs": [],
   "source": [
    "df = pd.DataFrame(columns=[\"pubmedid\", \"title\", \"message\"])"
   ]
  },
  {
   "cell_type": "code",
   "execution_count": null,
   "id": "ae51ad7c-5687-4411-b050-ca9c9d99eda0",
   "metadata": {},
   "outputs": [],
   "source": [
    "for data in results: \n",
    "    # Get the PubmedArticle array\n",
    "    # We do not care about books now\n",
    "    pubmedarticles = data['PubmedArticle']\n",
    "    \n",
    "    # Process pubmedarticles if there is any\n",
    "    if len(pubmedarticles)>0:\n",
    "        for article in pubmedarticles:\n",
    "            # Get pubmedid of the result\n",
    "            pubmed_id = str(article['MedlineCitation']['PMID'])\n",
    "            # Check if there is a title\n",
    "            if 'ArticleTitle' not in article['MedlineCitation']['Article']:\n",
    "                df = pd.concat([df, pd.DataFrame([{\"pubmedid\": pubmed_id, \"title\": pd.NA, \"message\": 'No title found.'}])])\n",
    "            else :\n",
    "                df = pd.concat([df, pd.DataFrame([{\"pubmedid\": pubmed_id, \"title\": article['MedlineCitation']['Article']['ArticleTitle'], \"message\": pd.NA}])])\n",
    "                "
   ]
  },
  {
   "cell_type": "markdown",
   "id": "0c42cb9b-c3be-4ec0-a781-2c548f02ec47",
   "metadata": {},
   "source": [
    "Number of extracted articles:"
   ]
  },
  {
   "cell_type": "code",
   "execution_count": null,
   "id": "08208a99-de96-4e53-a6e0-7432d0439983",
   "metadata": {},
   "outputs": [],
   "source": [
    "len(df)"
   ]
  },
  {
   "cell_type": "markdown",
   "id": "80de16d1-55b7-40d5-bb80-f4567705d09a",
   "metadata": {},
   "source": [
    "#### Data wrangling"
   ]
  },
  {
   "cell_type": "markdown",
   "id": "4427956f-016e-4cbd-97e8-cc70198d37d4",
   "metadata": {},
   "source": [
    "Number of titles extracted:"
   ]
  },
  {
   "cell_type": "code",
   "execution_count": null,
   "id": "8c9877cd-017c-46dd-acae-68522e402dcc",
   "metadata": {},
   "outputs": [],
   "source": [
    "len(df['title'].notna())"
   ]
  },
  {
   "cell_type": "code",
   "execution_count": null,
   "id": "ce485c62-eb9f-4e87-bc79-a84433d0e2d0",
   "metadata": {},
   "outputs": [],
   "source": [
    "df.head()"
   ]
  },
  {
   "cell_type": "markdown",
   "id": "df07778a-989a-4231-ae91-ce4f3b0a7345",
   "metadata": {},
   "source": [
    "Let's see the errors if there are any."
   ]
  },
  {
   "cell_type": "code",
   "execution_count": null,
   "id": "8030cd94-e5aa-45a7-8b5d-b44daff611c7",
   "metadata": {},
   "outputs": [],
   "source": [
    "df[df['message'].notna()]"
   ]
  },
  {
   "cell_type": "code",
   "execution_count": null,
   "id": "0d73d4f1-178d-4a3a-85ef-66d22e7f2f06",
   "metadata": {},
   "outputs": [],
   "source": [
    "df['message'].isna().sum()"
   ]
  },
  {
   "cell_type": "markdown",
   "id": "ee1dd135-bf33-46c8-83ac-7017f82ac7f7",
   "metadata": {},
   "source": [
    "Add a new column that contains the number of characters in the title column."
   ]
  },
  {
   "cell_type": "code",
   "execution_count": null,
   "id": "e86c6d38-3b26-405b-b882-182047267cd0",
   "metadata": {},
   "outputs": [],
   "source": [
    "df['n_char'] = df['title'].str.len()\n",
    "# df['message'].apply(lambda x: len(str(x)) if pd.notna(x) else pd.NA)"
   ]
  },
  {
   "cell_type": "markdown",
   "id": "7d22c0f3-de99-4f79-8b38-4522c73762d4",
   "metadata": {},
   "source": [
    "#### Results"
   ]
  },
  {
   "cell_type": "code",
   "execution_count": null,
   "id": "1eb85323-a7ce-4fde-a679-ddceeb824d9e",
   "metadata": {},
   "outputs": [],
   "source": [
    "f\"The longest title was {df['n_char'].max()} characters long while the shortest title was {df['n_char'].min()} characters long.\""
   ]
  },
  {
   "cell_type": "code",
   "execution_count": null,
   "id": "7b24920d-5ebf-465e-9de3-c740b48c0d1d",
   "metadata": {},
   "outputs": [],
   "source": [
    "plt.hist(df['n_char'].dropna(), bins=20, edgecolor='black')\n",
    "\n",
    "# Add labels and title\n",
    "plt.xlabel('Number of characters in the title of the paper')\n",
    "plt.ylabel('Frequency')\n",
    "\n",
    "# Show the plot\n",
    "plt.show()"
   ]
  }
 ],
 "metadata": {
  "kernelspec": {
   "display_name": "Python 3 (ipykernel)",
   "language": "python",
   "name": "python3"
  },
  "language_info": {
   "codemirror_mode": {
    "name": "ipython",
    "version": 3
   },
   "file_extension": ".py",
   "mimetype": "text/x-python",
   "name": "python",
   "nbconvert_exporter": "python",
   "pygments_lexer": "ipython3",
   "version": "3.8.10"
  }
 },
 "nbformat": 4,
 "nbformat_minor": 5
}
